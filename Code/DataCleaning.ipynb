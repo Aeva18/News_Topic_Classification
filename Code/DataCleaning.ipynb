{
  "cells": [
    {
      "cell_type": "code",
      "execution_count": 1,
      "metadata": {
        "colab": {
          "base_uri": "https://localhost:8080/"
        },
        "id": "tfuTZCIBc1KN",
        "outputId": "aded7982-4b64-438c-e280-2a381f97a53e"
      },
      "outputs": [
        {
          "output_type": "stream",
          "name": "stdout",
          "text": [
            "Collecting sastrawi\n",
            "  Downloading Sastrawi-1.0.1-py2.py3-none-any.whl (209 kB)\n",
            "\u001b[2K     \u001b[90m━━━━━━━━━━━━━━━━━━━━━━━━━━━━━━━━━━━━━━━━\u001b[0m \u001b[32m209.7/209.7 kB\u001b[0m \u001b[31m3.9 MB/s\u001b[0m eta \u001b[36m0:00:00\u001b[0m\n",
            "\u001b[?25hInstalling collected packages: sastrawi\n",
            "Successfully installed sastrawi-1.0.1\n"
          ]
        }
      ],
      "source": [
        "!pip install sastrawi"
      ]
    },
    {
      "cell_type": "code",
      "execution_count": 3,
      "metadata": {
        "id": "e4LP15motLPC"
      },
      "outputs": [],
      "source": [
        "import pandas as pd\n",
        "import re\n",
        "import string\n",
        "from Sastrawi.Stemmer.StemmerFactory import StemmerFactory\n",
        "from Sastrawi.StopWordRemover.StopWordRemoverFactory import StopWordRemoverFactory\n",
        "\n",
        "#Add korpus stopword tambahan yang disediakan oleh DSI(Data Science Indonesia) lewat github mereka\n",
        "list_stopword   = list(pd.read_csv('https://raw.githubusercontent.com/datascienceid/stopwords-bahasa-indonesia/master/stopwords_id_satya.txt', header = None)[0])\n",
        "#Add beberapa word custom yang ingin dibuang, yaitu nama - nama redaksi serta dummy word periklanan yang terambil pada scraping\n",
        "to_remove = ['liputan', 'kompas', 'tempo','okezone','advertisement','scroll','to' ,'continue' ,'with', 'content' ]\n",
        "\n",
        "def clean_text(text):\n",
        "    #membuang semua kata yang mengandung http, https dan .com\n",
        "    text = re.sub(r'https?://\\S+|\\.com', '', text)\n",
        "    #Membuang semua kata yang mengandung # ataupun @, walaupun jarang ada pada data berita, namun ada baiknya pencegahan dilakukan\n",
        "    text = re.sub('(@\\w+|#\\w+)','',text)\n",
        "    #Membuang semua tag html\n",
        "    text=re.sub('<.*?>', '', text)\n",
        "    #Membuang semua non-alphabetic text\n",
        "    text = re.sub('[^a-zA-Z]',' ',text)\n",
        "    #Mengganti newline dengan spasi, sebab data berita sangat banyak newline tidak terduga\n",
        "    text = re.sub(\"\\n\",\" \",text)\n",
        "    #Mengganti double space menjadi satu. Ini untuk merapikan teks akibat newline di atas\n",
        "    text = re.sub('(s{2,})',' ',text)\n",
        "    #Gabungkan terlebih dahulu text\n",
        "    text=' '.join(text.split())\n",
        "\n",
        "    #Split text tersebut\n",
        "    text_split = text.split(' ')\n",
        "\n",
        "    #Remove Stopword dan custom_word dari teks mengandalkan Sastrawi dan korpus stopword DSI\n",
        "    #1. Korpus DSI\n",
        "    final_text = []\n",
        "    for i in range(len(text_split)):\n",
        "      if (text_split[i] not in list_stopword) and (text_split[i] not in to_remove) and (type(text_split[i]) == str):\n",
        "        final_text.append(text_split[i])\n",
        "\n",
        "    final_text = ' '.join(final_text)\n",
        "\n",
        "    #2. Sastrawi\n",
        "    stopword_remover = StopWordRemoverFactory().create_stop_word_remover()\n",
        "    #Stopword dicek kembali dari final text yang sudah ada\n",
        "    final_text = stopword_remover.remove(final_text)\n",
        "\n",
        "\n",
        "    #Finally, yang terakhir dilakukan adalah stemming, menggunakan Sastrawi dari yang ada\n",
        "    stemmer = StemmerFactory().create_stemmer()\n",
        "    final_text = stemmer.stem(final_text)\n",
        "\n",
        "    return final_text\n",
        "\n",
        "\n",
        "\n",
        "def cleaning(df,col_names):\n",
        "  #Case Folding => Kecilkan semua kolom yang ada pada sebuah dataframe, nantinya untuk teks\n",
        "  df[col_names] = df[col_names].str.lower()\n",
        "  df[col_names] = df[col_names].apply(clean_text)\n",
        "\n",
        "  return df\n"
      ]
    },
    {
      "cell_type": "code",
      "execution_count": 5,
      "metadata": {
        "id": "ZGPZ074Px8Zo"
      },
      "outputs": [],
      "source": [
        "df = pd.read_csv(\"raw_data.csv\")\n",
        "\n",
        "df_clean = cleaning(df,\"Teks\")"
      ]
    },
    {
      "cell_type": "code",
      "execution_count": 6,
      "metadata": {
        "colab": {
          "base_uri": "https://localhost:8080/"
        },
        "id": "8p8AAqURx-tu",
        "outputId": "94542b1f-2c38-4aab-b0a9-013da79ffa2b"
      },
      "outputs": [
        {
          "output_type": "stream",
          "name": "stdout",
          "text": [
            "<class 'pandas.core.frame.DataFrame'>\n",
            "RangeIndex: 450 entries, 0 to 449\n",
            "Data columns (total 3 columns):\n",
            " #   Column  Non-Null Count  Dtype \n",
            "---  ------  --------------  ----- \n",
            " 0   Teks    450 non-null    object\n",
            " 1   Media   450 non-null    object\n",
            " 2   Label   450 non-null    object\n",
            "dtypes: object(3)\n",
            "memory usage: 10.7+ KB\n"
          ]
        }
      ],
      "source": [
        "df_clean.info()"
      ]
    },
    {
      "cell_type": "code",
      "source": [
        "df_clean['Teks'].sample(15)"
      ],
      "metadata": {
        "colab": {
          "base_uri": "https://localhost:8080/"
        },
        "id": "KIK-X2GXmbtP",
        "outputId": "77021d22-e3c9-4c76-fafe-685528582af4"
      },
      "execution_count": 11,
      "outputs": [
        {
          "output_type": "execute_result",
          "data": {
            "text/plain": [
              "396    jakarta main ajaib usia tahun omari forson lih...\n",
              "141    jakarta presiden joko widodo ingat rukun satu ...\n",
              "436    seoul akun weibo milik lisa blackpink akses mu...\n",
              "434    jakarta malam anugerah piala citra festival fi...\n",
              "91     lionel me i hasil raih satu harga gengsi milik...\n",
              "290    alex marquez yakin sang kakak marc marquez ras...\n",
              "401    jakarta pakar transfer fabrizio romano beri ka...\n",
              "152    datang malaysia maret one piece exhibition asi...\n",
              "382    jakarta calon presiden ganjar pranowo menyicip...\n",
              "424    jakarta facele love drama thailand baru tonton...\n",
              "372    jakarta gubernur jawa timur khofifah indar par...\n",
              "218    co jakarta eduardo camavinga panjang kontra re...\n",
              "138    jakarta bakal calon presiden ganjar pranowo wa...\n",
              "320    organisasi ikat dagang pasar indonesia ikappi ...\n",
              "52     bakal cawapres koalisi indonesia maju kim gibr...\n",
              "Name: Teks, dtype: object"
            ]
          },
          "metadata": {},
          "execution_count": 11
        }
      ]
    },
    {
      "cell_type": "code",
      "execution_count": 12,
      "metadata": {
        "id": "DoCJTnQC6DaM"
      },
      "outputs": [],
      "source": [
        "df_clean.to_csv(\"clean_data.csv\")"
      ]
    }
  ],
  "metadata": {
    "colab": {
      "provenance": []
    },
    "kernelspec": {
      "display_name": "Python 3 (ipykernel)",
      "language": "python",
      "name": "python3"
    },
    "language_info": {
      "codemirror_mode": {
        "name": "ipython",
        "version": 3
      },
      "file_extension": ".py",
      "mimetype": "text/x-python",
      "name": "python",
      "nbconvert_exporter": "python",
      "pygments_lexer": "ipython3",
      "version": "3.9.13"
    }
  },
  "nbformat": 4,
  "nbformat_minor": 0
}