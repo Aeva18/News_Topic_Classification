{
  "cells": [
    {
      "cell_type": "code",
      "execution_count": null,
      "metadata": {
        "id": "DS_vL7gRD3NB"
      },
      "outputs": [],
      "source": [
        "import pandas as pd\n",
        "import numpy as np\n",
        "import gensim\n",
        "from sklearn.preprocessing import LabelEncoder\n",
        "from sklearn.model_selection import train_test_split\n",
        "from sklearn.metrics import classification_report , confusion_matrix"
      ]
    },
    {
      "cell_type": "code",
      "execution_count": null,
      "metadata": {
        "id": "DiZspYELGBba"
      },
      "outputs": [],
      "source": [
        "df = pd.read_csv(\"clean_data.csv\")"
      ]
    },
    {
      "cell_type": "code",
      "execution_count": null,
      "metadata": {
        "colab": {
          "base_uri": "https://localhost:8080/",
          "height": 206
        },
        "id": "Q9DQVI0VHQB5",
        "outputId": "f82cb1a6-30bc-463b-a4aa-e797a648cc63"
      },
      "outputs": [
        {
          "data": {
            "text/html": [
              "\n",
              "  <div id=\"df-959a92bf-5fcb-4d33-91c9-6ddcc6662288\" class=\"colab-df-container\">\n",
              "    <div>\n",
              "<style scoped>\n",
              "    .dataframe tbody tr th:only-of-type {\n",
              "        vertical-align: middle;\n",
              "    }\n",
              "\n",
              "    .dataframe tbody tr th {\n",
              "        vertical-align: top;\n",
              "    }\n",
              "\n",
              "    .dataframe thead th {\n",
              "        text-align: right;\n",
              "    }\n",
              "</style>\n",
              "<table border=\"1\" class=\"dataframe\">\n",
              "  <thead>\n",
              "    <tr style=\"text-align: right;\">\n",
              "      <th></th>\n",
              "      <th>Unnamed: 0</th>\n",
              "      <th>Teks</th>\n",
              "      <th>Media</th>\n",
              "      <th>Label</th>\n",
              "    </tr>\n",
              "  </thead>\n",
              "  <tbody>\n",
              "    <tr>\n",
              "      <th>0</th>\n",
              "      <td>0</td>\n",
              "      <td>san antonio spurs kalah tuan rumah phoenix sun...</td>\n",
              "      <td>Detik.com</td>\n",
              "      <td>0</td>\n",
              "    </tr>\n",
              "    <tr>\n",
              "      <th>1</th>\n",
              "      <td>1</td>\n",
              "      <td>hilang main tottenham hotspur nekat main tahan...</td>\n",
              "      <td>Detik.com</td>\n",
              "      <td>0</td>\n",
              "    </tr>\n",
              "    <tr>\n",
              "      <th>2</th>\n",
              "      <td>2</td>\n",
              "      <td>nicolas jackson cetak hat trick menang chelsea...</td>\n",
              "      <td>Detik.com</td>\n",
              "      <td>0</td>\n",
              "    </tr>\n",
              "    <tr>\n",
              "      <th>3</th>\n",
              "      <td>3</td>\n",
              "      <td>lionel me i menang ballon d or unggul cukup ja...</td>\n",
              "      <td>Detik.com</td>\n",
              "      <td>0</td>\n",
              "    </tr>\n",
              "    <tr>\n",
              "      <th>4</th>\n",
              "      <td>4</td>\n",
              "      <td>liga basket ajar indonesia dbl buat kejut part...</td>\n",
              "      <td>Detik.com</td>\n",
              "      <td>0</td>\n",
              "    </tr>\n",
              "  </tbody>\n",
              "</table>\n",
              "</div>\n",
              "    <div class=\"colab-df-buttons\">\n",
              "\n",
              "  <div class=\"colab-df-container\">\n",
              "    <button class=\"colab-df-convert\" onclick=\"convertToInteractive('df-959a92bf-5fcb-4d33-91c9-6ddcc6662288')\"\n",
              "            title=\"Convert this dataframe to an interactive table.\"\n",
              "            style=\"display:none;\">\n",
              "\n",
              "  <svg xmlns=\"http://www.w3.org/2000/svg\" height=\"24px\" viewBox=\"0 -960 960 960\">\n",
              "    <path d=\"M120-120v-720h720v720H120Zm60-500h600v-160H180v160Zm220 220h160v-160H400v160Zm0 220h160v-160H400v160ZM180-400h160v-160H180v160Zm440 0h160v-160H620v160ZM180-180h160v-160H180v160Zm440 0h160v-160H620v160Z\"/>\n",
              "  </svg>\n",
              "    </button>\n",
              "\n",
              "  <style>\n",
              "    .colab-df-container {\n",
              "      display:flex;\n",
              "      gap: 12px;\n",
              "    }\n",
              "\n",
              "    .colab-df-convert {\n",
              "      background-color: #E8F0FE;\n",
              "      border: none;\n",
              "      border-radius: 50%;\n",
              "      cursor: pointer;\n",
              "      display: none;\n",
              "      fill: #1967D2;\n",
              "      height: 32px;\n",
              "      padding: 0 0 0 0;\n",
              "      width: 32px;\n",
              "    }\n",
              "\n",
              "    .colab-df-convert:hover {\n",
              "      background-color: #E2EBFA;\n",
              "      box-shadow: 0px 1px 2px rgba(60, 64, 67, 0.3), 0px 1px 3px 1px rgba(60, 64, 67, 0.15);\n",
              "      fill: #174EA6;\n",
              "    }\n",
              "\n",
              "    .colab-df-buttons div {\n",
              "      margin-bottom: 4px;\n",
              "    }\n",
              "\n",
              "    [theme=dark] .colab-df-convert {\n",
              "      background-color: #3B4455;\n",
              "      fill: #D2E3FC;\n",
              "    }\n",
              "\n",
              "    [theme=dark] .colab-df-convert:hover {\n",
              "      background-color: #434B5C;\n",
              "      box-shadow: 0px 1px 3px 1px rgba(0, 0, 0, 0.15);\n",
              "      filter: drop-shadow(0px 1px 2px rgba(0, 0, 0, 0.3));\n",
              "      fill: #FFFFFF;\n",
              "    }\n",
              "  </style>\n",
              "\n",
              "    <script>\n",
              "      const buttonEl =\n",
              "        document.querySelector('#df-959a92bf-5fcb-4d33-91c9-6ddcc6662288 button.colab-df-convert');\n",
              "      buttonEl.style.display =\n",
              "        google.colab.kernel.accessAllowed ? 'block' : 'none';\n",
              "\n",
              "      async function convertToInteractive(key) {\n",
              "        const element = document.querySelector('#df-959a92bf-5fcb-4d33-91c9-6ddcc6662288');\n",
              "        const dataTable =\n",
              "          await google.colab.kernel.invokeFunction('convertToInteractive',\n",
              "                                                    [key], {});\n",
              "        if (!dataTable) return;\n",
              "\n",
              "        const docLinkHtml = 'Like what you see? Visit the ' +\n",
              "          '<a target=\"_blank\" href=https://colab.research.google.com/notebooks/data_table.ipynb>data table notebook</a>'\n",
              "          + ' to learn more about interactive tables.';\n",
              "        element.innerHTML = '';\n",
              "        dataTable['output_type'] = 'display_data';\n",
              "        await google.colab.output.renderOutput(dataTable, element);\n",
              "        const docLink = document.createElement('div');\n",
              "        docLink.innerHTML = docLinkHtml;\n",
              "        element.appendChild(docLink);\n",
              "      }\n",
              "    </script>\n",
              "  </div>\n",
              "\n",
              "\n",
              "<div id=\"df-985d8f90-c8f0-460b-8e00-d8df09435c4f\">\n",
              "  <button class=\"colab-df-quickchart\" onclick=\"quickchart('df-985d8f90-c8f0-460b-8e00-d8df09435c4f')\"\n",
              "            title=\"Suggest charts\"\n",
              "            style=\"display:none;\">\n",
              "\n",
              "<svg xmlns=\"http://www.w3.org/2000/svg\" height=\"24px\"viewBox=\"0 0 24 24\"\n",
              "     width=\"24px\">\n",
              "    <g>\n",
              "        <path d=\"M19 3H5c-1.1 0-2 .9-2 2v14c0 1.1.9 2 2 2h14c1.1 0 2-.9 2-2V5c0-1.1-.9-2-2-2zM9 17H7v-7h2v7zm4 0h-2V7h2v10zm4 0h-2v-4h2v4z\"/>\n",
              "    </g>\n",
              "</svg>\n",
              "  </button>\n",
              "\n",
              "<style>\n",
              "  .colab-df-quickchart {\n",
              "      --bg-color: #E8F0FE;\n",
              "      --fill-color: #1967D2;\n",
              "      --hover-bg-color: #E2EBFA;\n",
              "      --hover-fill-color: #174EA6;\n",
              "      --disabled-fill-color: #AAA;\n",
              "      --disabled-bg-color: #DDD;\n",
              "  }\n",
              "\n",
              "  [theme=dark] .colab-df-quickchart {\n",
              "      --bg-color: #3B4455;\n",
              "      --fill-color: #D2E3FC;\n",
              "      --hover-bg-color: #434B5C;\n",
              "      --hover-fill-color: #FFFFFF;\n",
              "      --disabled-bg-color: #3B4455;\n",
              "      --disabled-fill-color: #666;\n",
              "  }\n",
              "\n",
              "  .colab-df-quickchart {\n",
              "    background-color: var(--bg-color);\n",
              "    border: none;\n",
              "    border-radius: 50%;\n",
              "    cursor: pointer;\n",
              "    display: none;\n",
              "    fill: var(--fill-color);\n",
              "    height: 32px;\n",
              "    padding: 0;\n",
              "    width: 32px;\n",
              "  }\n",
              "\n",
              "  .colab-df-quickchart:hover {\n",
              "    background-color: var(--hover-bg-color);\n",
              "    box-shadow: 0 1px 2px rgba(60, 64, 67, 0.3), 0 1px 3px 1px rgba(60, 64, 67, 0.15);\n",
              "    fill: var(--button-hover-fill-color);\n",
              "  }\n",
              "\n",
              "  .colab-df-quickchart-complete:disabled,\n",
              "  .colab-df-quickchart-complete:disabled:hover {\n",
              "    background-color: var(--disabled-bg-color);\n",
              "    fill: var(--disabled-fill-color);\n",
              "    box-shadow: none;\n",
              "  }\n",
              "\n",
              "  .colab-df-spinner {\n",
              "    border: 2px solid var(--fill-color);\n",
              "    border-color: transparent;\n",
              "    border-bottom-color: var(--fill-color);\n",
              "    animation:\n",
              "      spin 1s steps(1) infinite;\n",
              "  }\n",
              "\n",
              "  @keyframes spin {\n",
              "    0% {\n",
              "      border-color: transparent;\n",
              "      border-bottom-color: var(--fill-color);\n",
              "      border-left-color: var(--fill-color);\n",
              "    }\n",
              "    20% {\n",
              "      border-color: transparent;\n",
              "      border-left-color: var(--fill-color);\n",
              "      border-top-color: var(--fill-color);\n",
              "    }\n",
              "    30% {\n",
              "      border-color: transparent;\n",
              "      border-left-color: var(--fill-color);\n",
              "      border-top-color: var(--fill-color);\n",
              "      border-right-color: var(--fill-color);\n",
              "    }\n",
              "    40% {\n",
              "      border-color: transparent;\n",
              "      border-right-color: var(--fill-color);\n",
              "      border-top-color: var(--fill-color);\n",
              "    }\n",
              "    60% {\n",
              "      border-color: transparent;\n",
              "      border-right-color: var(--fill-color);\n",
              "    }\n",
              "    80% {\n",
              "      border-color: transparent;\n",
              "      border-right-color: var(--fill-color);\n",
              "      border-bottom-color: var(--fill-color);\n",
              "    }\n",
              "    90% {\n",
              "      border-color: transparent;\n",
              "      border-bottom-color: var(--fill-color);\n",
              "    }\n",
              "  }\n",
              "</style>\n",
              "\n",
              "  <script>\n",
              "    async function quickchart(key) {\n",
              "      const quickchartButtonEl =\n",
              "        document.querySelector('#' + key + ' button');\n",
              "      quickchartButtonEl.disabled = true;  // To prevent multiple clicks.\n",
              "      quickchartButtonEl.classList.add('colab-df-spinner');\n",
              "      try {\n",
              "        const charts = await google.colab.kernel.invokeFunction(\n",
              "            'suggestCharts', [key], {});\n",
              "      } catch (error) {\n",
              "        console.error('Error during call to suggestCharts:', error);\n",
              "      }\n",
              "      quickchartButtonEl.classList.remove('colab-df-spinner');\n",
              "      quickchartButtonEl.classList.add('colab-df-quickchart-complete');\n",
              "    }\n",
              "    (() => {\n",
              "      let quickchartButtonEl =\n",
              "        document.querySelector('#df-985d8f90-c8f0-460b-8e00-d8df09435c4f button');\n",
              "      quickchartButtonEl.style.display =\n",
              "        google.colab.kernel.accessAllowed ? 'block' : 'none';\n",
              "    })();\n",
              "  </script>\n",
              "</div>\n",
              "    </div>\n",
              "  </div>\n"
            ],
            "text/plain": [
              "   Unnamed: 0                                               Teks      Media  \\\n",
              "0           0  san antonio spurs kalah tuan rumah phoenix sun...  Detik.com   \n",
              "1           1  hilang main tottenham hotspur nekat main tahan...  Detik.com   \n",
              "2           2  nicolas jackson cetak hat trick menang chelsea...  Detik.com   \n",
              "3           3  lionel me i menang ballon d or unggul cukup ja...  Detik.com   \n",
              "4           4  liga basket ajar indonesia dbl buat kejut part...  Detik.com   \n",
              "\n",
              "   Label  \n",
              "0      0  \n",
              "1      0  \n",
              "2      0  \n",
              "3      0  \n",
              "4      0  "
            ]
          },
          "execution_count": 233,
          "metadata": {},
          "output_type": "execute_result"
        }
      ],
      "source": [
        "#Apply Mapping to Integer for Label column\n",
        "df['Label'] = df['Label'].map({'Olahraga':0,'Politik':1,'Hiburan':2})\n",
        "\n",
        "df.head()"
      ]
    },
    {
      "cell_type": "code",
      "execution_count": null,
      "metadata": {
        "id": "6DSQ-8oeVlGj"
      },
      "outputs": [],
      "source": [
        "#Split dataset menjadi training dan testing set\n",
        "X_train, X_test,Y_train, Y_test = train_test_split(df['Teks'],df['Label'],random_state = 42 , test_size=0.2, stratify = df['Label'])"
      ]
    },
    {
      "attachments": {},
      "cell_type": "markdown",
      "metadata": {
        "id": "SWJPJvMcOITp"
      },
      "source": [
        "#1. Text Representation 1 : Word2Vec"
      ]
    },
    {
      "cell_type": "code",
      "execution_count": null,
      "metadata": {
        "id": "tPDwRcCPHifg"
      },
      "outputs": [],
      "source": [
        "#Ambil setiap kata dalam X_train, disini tidak usah tokenization, sebab dalam data cleaning sudah dipastikan bahwa setiap kata terpaut satu spasi\n",
        "sentences = [sentence.split() for sentence in X_train]\n",
        "\n",
        "#Train model Word2vec sesuai dengan keinginan soal\n",
        "#Penjelasan detail ada di pdf\n",
        "word2vec_model = gensim.models.Word2Vec(sentences,\n",
        "                                   vector_size=50,\n",
        "                                   window=10,\n",
        "                                   min_count=3,\n",
        "                                   sg = 1)"
      ]
    },
    {
      "cell_type": "markdown",
      "metadata": {
        "id": "RbVq4jmW3Jma"
      },
      "source": [
        "Disini,\n",
        "- vector_size menjelaskan mengenai banyaknya vektor dimensi yang akan terbuat dalam proses training nantinya. Disini vector_size = 50, maka nanti setiap data akan memiliki 50 dimensi\n",
        "- window mengontrol jumlah kata sebelum dan sesudah kata target yang diambil sebagai konteks untuk pelatihan model.Jika window = 10, maka di setiap kata X, akan ada 10 kata sebelum dan sesudah X yang diambil sebagai konteks representative kata tersebut\n",
        "- min_count menyatakan jumlah kata minimum yang akan diperhitungkan agar kata diperhitungkan dalam model. Jika min_count = 3, maka kata-kata yang muncul kurang dari 3 kali dalam korpus training word2Vec akan diabaikan(valued 0).\n",
        "- sg = 1 menyatakan mode skip-gram, jika sg = 0 akan menyatakan mode CBOW"
      ]
    },
    {
      "cell_type": "code",
      "execution_count": null,
      "metadata": {
        "id": "pkUUz2QKFFzA"
      },
      "outputs": [],
      "source": [
        "#Lakukan vektorisasi untuk setiap kata\n",
        "def vectorize_word2vec(sentence): #Parameter = kalimat/teks\n",
        "    words = sentence.split() #Pecah teks menjadi kata\n",
        "     #Lakukan word vectorizing untuk setiap kata dari model word2vec yang ada\n",
        "    words_vecs = [word2vec_model.wv[word] for word in words if word in word2vec_model.wv]\n",
        "    if len(words_vecs) == 0: #Kalau ternyata tidak ada / tidak memenuhi min_count, maka nilainya adalah 0\n",
        "        return np.zeros(50) #return nilai 0\n",
        "    words_vecs = np.array(words_vecs) #Kalau tidak 0, jadikan array lalu keluarkan rata-ratanya\n",
        "    return words_vecs.mean(axis=0)"
      ]
    },
    {
      "cell_type": "code",
      "execution_count": null,
      "metadata": {
        "id": "LAvVknkJE-oW"
      },
      "outputs": [],
      "source": [
        "#Apply word vectorize ke setiap kata yang ada pada X_train dan X_test\n",
        "X_train_word2vec= np.array([vectorize_word2vec(sentence) for sentence in X_train])\n",
        "X_test_word2vec = np.array([vectorize_word2vec(sentence) for sentence in X_test])"
      ]
    },
    {
      "cell_type": "markdown",
      "metadata": {
        "id": "XcUAAF6M6Y_j"
      },
      "source": [
        "# Text Representation 2 : FastText"
      ]
    },
    {
      "cell_type": "code",
      "execution_count": null,
      "metadata": {
        "id": "edKcs-lc_Tyl"
      },
      "outputs": [],
      "source": [
        "#Ambil setiap kata dalam X_train, disini tidak usah tokenization, sebab dalam data cleaning sudah dipastikan bahwa setiap kata terpaut satu spasi\n",
        "sentences = [sentence.split() for sentence in X_train]\n",
        "\n",
        "#Train model fastText sesuai dengan keinginan soal\n",
        "#Penjelasan detail ada di pdf\n",
        "fastText_model = gensim.models.FastText(sentences,\n",
        "                                        vector_size=50,\n",
        "                                        window=10,\n",
        "                                        min_count=3,\n",
        "                                        sg=1\n",
        "                                       )"
      ]
    },
    {
      "cell_type": "code",
      "execution_count": null,
      "metadata": {
        "id": "Yzb28OoK6fjQ"
      },
      "outputs": [],
      "source": [
        "#Lakukan vektorisasi untuk setiap kata\n",
        "def vectorize_fastText(sentence): #Parameter = kalimat/teks\n",
        "    words = sentence.split() #Pecah teks menjadi kata\n",
        "    #Lakukan word vectorizing untuk setiap kata dari model word2vec yang ada\n",
        "    words_vecs = [fastText_model.wv[word] for word in words if word in fastText_model.wv]\n",
        "    if len(words_vecs) == 0:#Kalau ternyata tidak ada / tidak memenuhi min_count, maka nilainya adalah 0\n",
        "        return np.zeros(50) #return nilai 0\n",
        "    words_vecs = np.array(words_vecs) #Kalau tidak 0, jadikan array lalu keluarkan rata-ratanya\n",
        "    return words_vecs.mean(axis=0)"
      ]
    },
    {
      "cell_type": "code",
      "execution_count": null,
      "metadata": {
        "id": "r4-KNX3Z_-lZ"
      },
      "outputs": [],
      "source": [
        "#Apply word vectorize ke setiap kata yang ada pada X_train dan X_test\n",
        "X_train_fastText = np.array([vectorize_fastText(sentence) for sentence in X_train])\n",
        "X_test_fastText = np.array([vectorize_fastText(sentence) for sentence in X_test])"
      ]
    },
    {
      "cell_type": "code",
      "execution_count": null,
      "metadata": {
        "colab": {
          "base_uri": "https://localhost:8080/"
        },
        "id": "QyZ-J9eOovHl",
        "outputId": "45f8d331-f15a-4882-ca8a-7857cea6379e"
      },
      "outputs": [
        {
          "data": {
            "text/plain": [
              "(360, 50)"
            ]
          },
          "execution_count": 241,
          "metadata": {},
          "output_type": "execute_result"
        }
      ],
      "source": [
        "X_train_fastText.shape"
      ]
    },
    {
      "cell_type": "markdown",
      "metadata": {
        "id": "8RyB3TEpCuwu"
      },
      "source": [
        "# Modelling : SVM"
      ]
    },
    {
      "cell_type": "code",
      "execution_count": null,
      "metadata": {
        "id": "Gn1P_KtRDL6t"
      },
      "outputs": [],
      "source": [
        "from sklearn.svm import SVC\n",
        "svm = SVC()"
      ]
    },
    {
      "cell_type": "markdown",
      "metadata": {
        "id": "TdpqjEbdDF0s"
      },
      "source": [
        "## 1. Word2Vec embedding"
      ]
    },
    {
      "cell_type": "code",
      "execution_count": null,
      "metadata": {
        "id": "-xfw-zMTV5Z7"
      },
      "outputs": [],
      "source": [
        "model_svm_word2vec = svm.fit(X_train_word2vec,Y_train)\n",
        "\n",
        "prediction_word2vec_svm = model_svm_word2vec.predict(X_test_word2vec)"
      ]
    },
    {
      "cell_type": "code",
      "execution_count": null,
      "metadata": {
        "colab": {
          "base_uri": "https://localhost:8080/"
        },
        "id": "IW6KPNOuu03C",
        "outputId": "2418d228-0933-4801-9b5f-bb43792eadc9"
      },
      "outputs": [
        {
          "name": "stdout",
          "output_type": "stream",
          "text": [
            "[[30  0  0]\n",
            " [ 0 29  1]\n",
            " [ 0  1 29]]\n"
          ]
        }
      ],
      "source": [
        "print(confusion_matrix(prediction_word2vec_svm, Y_test))"
      ]
    },
    {
      "cell_type": "code",
      "execution_count": null,
      "metadata": {
        "colab": {
          "base_uri": "https://localhost:8080/"
        },
        "id": "PlklpbdkvBjq",
        "outputId": "118cc664-3cf2-4d47-ba8c-dac4e0ef8f47"
      },
      "outputs": [
        {
          "name": "stdout",
          "output_type": "stream",
          "text": [
            "              precision    recall  f1-score   support\n",
            "\n",
            "           0       1.00      1.00      1.00        30\n",
            "           1       0.97      0.97      0.97        30\n",
            "           2       0.97      0.97      0.97        30\n",
            "\n",
            "    accuracy                           0.98        90\n",
            "   macro avg       0.98      0.98      0.98        90\n",
            "weighted avg       0.98      0.98      0.98        90\n",
            "\n"
          ]
        }
      ],
      "source": [
        "print(classification_report(prediction_word2vec_svm, Y_test))"
      ]
    },
    {
      "cell_type": "markdown",
      "metadata": {
        "id": "H0p04XSL3Fh6"
      },
      "source": [
        "Disini, terlihat bahwa model SVM bekerja dengan hampir sempurna pada model word2Vec, dimana terdapat\n",
        "- 1 misklasifikasi kelas 1(Politik) ke kelas 2(Hiburan) dan sebaliknya, mengakibatkan keduanya memiliki precision 97% (29/30 *100%) dan recall 97% juga, sebab hanya 29 prediksi yang benar dari total 30 prediksi label 2(29/30 * 100%).\n",
        "- Model juga memberikan akurasi akhir 98%"
      ]
    },
    {
      "cell_type": "markdown",
      "metadata": {
        "id": "WdUBEKq9FrIl"
      },
      "source": [
        "## FastText embedding"
      ]
    },
    {
      "cell_type": "code",
      "execution_count": null,
      "metadata": {
        "id": "DfIFPzpm0Kr4"
      },
      "outputs": [],
      "source": [
        "model_svm_fastText = svm.fit(X_train_fastText,Y_train)\n",
        "\n",
        "prediction_fastText_svm = model_svm_fastText.predict(X_test_fastText)"
      ]
    },
    {
      "cell_type": "code",
      "execution_count": null,
      "metadata": {
        "colab": {
          "base_uri": "https://localhost:8080/"
        },
        "id": "TCmMp0qkyQi_",
        "outputId": "3a8ffbb5-d0b2-429b-9cd0-94f10b199cdc"
      },
      "outputs": [
        {
          "name": "stdout",
          "output_type": "stream",
          "text": [
            "[[28  0  0]\n",
            " [ 0 29  0]\n",
            " [ 2  1 30]]\n"
          ]
        }
      ],
      "source": [
        "print(confusion_matrix(prediction_fastText_svm,Y_test))"
      ]
    },
    {
      "cell_type": "code",
      "execution_count": null,
      "metadata": {
        "colab": {
          "base_uri": "https://localhost:8080/"
        },
        "id": "b5vqB4oV0OR4",
        "outputId": "8e3d0165-55d6-41c5-865a-71946754a4ca"
      },
      "outputs": [
        {
          "name": "stdout",
          "output_type": "stream",
          "text": [
            "              precision    recall  f1-score   support\n",
            "\n",
            "           0       0.93      1.00      0.97        28\n",
            "           1       0.97      1.00      0.98        29\n",
            "           2       1.00      0.91      0.95        33\n",
            "\n",
            "    accuracy                           0.97        90\n",
            "   macro avg       0.97      0.97      0.97        90\n",
            "weighted avg       0.97      0.97      0.97        90\n",
            "\n"
          ]
        }
      ],
      "source": [
        "print(classification_report(prediction_fastText_svm,Y_test))"
      ]
    },
    {
      "cell_type": "markdown",
      "metadata": {
        "id": "DbByAh9o3Uv_"
      },
      "source": [
        "Disini, terlihat bahwa model SVM juga bekerja dengan hampir sempurna pada model fastText, dimana terdapat\n",
        "- 2 misklasifikasi kelas 0(Olahraga) ke kelas 1(Politik) dan 1 misklasifikasi dari label 1 ke label 2 , mengakibatkan keduanya memiliki precision 93% (28/30 *100%) dan 97%(29/30 * 100%)\n",
        "- Label 2 memiliki nilai recall 91%, sebab ada 33 prediksi di kelas 2 dan hanya 30 yang benar-benar label 2 (30/33 * 100%).\n",
        "- Model juga memberikan akurasi akhir 97%"
      ]
    },
    {
      "cell_type": "markdown",
      "metadata": {
        "id": "-o-Rw5tcGUQI"
      },
      "source": [
        "# Modelling : Random Forest"
      ]
    },
    {
      "cell_type": "code",
      "execution_count": null,
      "metadata": {
        "id": "HvpY645t0Q7A"
      },
      "outputs": [],
      "source": [
        "from sklearn.ensemble import RandomForestClassifier\n",
        "\n",
        "rf = RandomForestClassifier()"
      ]
    },
    {
      "cell_type": "markdown",
      "metadata": {
        "id": "XpCESnyVGm7a"
      },
      "source": [
        "## Word2Vec embedding"
      ]
    },
    {
      "cell_type": "code",
      "execution_count": null,
      "metadata": {
        "id": "32oVHAQOGalr"
      },
      "outputs": [],
      "source": [
        "model_rf_word2vec = rf.fit(X_train_word2vec,Y_train)\n",
        "\n",
        "prediction_word2vec_rf = model_rf_word2vec.predict(X_test_word2vec)"
      ]
    },
    {
      "cell_type": "code",
      "execution_count": null,
      "metadata": {
        "colab": {
          "base_uri": "https://localhost:8080/"
        },
        "id": "UoAYAleTGuxp",
        "outputId": "97e25dc4-23d0-45e5-98f8-be17ba2dc33f"
      },
      "outputs": [
        {
          "name": "stdout",
          "output_type": "stream",
          "text": [
            "[[30  0  2]\n",
            " [ 0 30  1]\n",
            " [ 0  0 27]]\n"
          ]
        }
      ],
      "source": [
        "print(confusion_matrix(prediction_word2vec_rf, Y_test))"
      ]
    },
    {
      "cell_type": "code",
      "execution_count": null,
      "metadata": {
        "colab": {
          "base_uri": "https://localhost:8080/"
        },
        "id": "hI1nMBPjGzAx",
        "outputId": "4f71c7bd-714b-40c2-97bb-63ebb2e22e09"
      },
      "outputs": [
        {
          "name": "stdout",
          "output_type": "stream",
          "text": [
            "              precision    recall  f1-score   support\n",
            "\n",
            "           0       1.00      0.94      0.97        32\n",
            "           1       1.00      0.97      0.98        31\n",
            "           2       0.90      1.00      0.95        27\n",
            "\n",
            "    accuracy                           0.97        90\n",
            "   macro avg       0.97      0.97      0.97        90\n",
            "weighted avg       0.97      0.97      0.97        90\n",
            "\n"
          ]
        }
      ],
      "source": [
        "print(classification_report(prediction_word2vec_rf, Y_test))"
      ]
    },
    {
      "cell_type": "markdown",
      "metadata": {
        "id": "B7zroF1w3ZiX"
      },
      "source": [
        "Pada model random Forest dengan metode word2Vec representation, terlihat bahwa:\n",
        "- Terdapat 3 misklasifikasi label 2 , 2 data masuk ke dalam Label 0 dan 1 data masuk ke dalam label 1, menghasilkan precision 90% saja (27 / 30 * 100%), sebab hanya 27 data dari 30 data yang terprediksi benar\n",
        "- Recall pada label 0 dan 1 berakibat menurun menjadi 94%(30/32 * 100%) dan 97%(30/31 *100%) , sebagai akibat dari misklasifikasi label 2\n",
        "- Akurasi keseluruhan model mencapai 97%"
      ]
    },
    {
      "cell_type": "markdown",
      "metadata": {
        "id": "y9yWI27CI5hG"
      },
      "source": [
        "## FastText embedding"
      ]
    },
    {
      "cell_type": "code",
      "execution_count": null,
      "metadata": {
        "id": "3audENAqHmZi"
      },
      "outputs": [],
      "source": [
        "model_rf_fastText = rf.fit(X_train_fastText,Y_train)\n",
        "\n",
        "\n",
        "prediction_fastText_rf = model_rf_fastText.predict(X_test_fastText)"
      ]
    },
    {
      "cell_type": "code",
      "execution_count": null,
      "metadata": {
        "colab": {
          "base_uri": "https://localhost:8080/"
        },
        "id": "bjC7i4FXJHqS",
        "outputId": "7baf1495-67a4-476f-c797-7da1e1fbb30e"
      },
      "outputs": [
        {
          "name": "stdout",
          "output_type": "stream",
          "text": [
            "[[30  0  1]\n",
            " [ 0 28  1]\n",
            " [ 0  2 28]]\n"
          ]
        }
      ],
      "source": [
        "print(confusion_matrix(prediction_fastText_rf, Y_test))"
      ]
    },
    {
      "cell_type": "code",
      "execution_count": null,
      "metadata": {
        "colab": {
          "base_uri": "https://localhost:8080/"
        },
        "id": "4ig9XpqdJKRU",
        "outputId": "b30ad4cb-5917-4c39-c39e-87768295a7d1"
      },
      "outputs": [
        {
          "name": "stdout",
          "output_type": "stream",
          "text": [
            "              precision    recall  f1-score   support\n",
            "\n",
            "           0       1.00      0.97      0.98        31\n",
            "           1       0.93      0.97      0.95        29\n",
            "           2       0.93      0.93      0.93        30\n",
            "\n",
            "    accuracy                           0.96        90\n",
            "   macro avg       0.96      0.96      0.96        90\n",
            "weighted avg       0.96      0.96      0.96        90\n",
            "\n"
          ]
        }
      ],
      "source": [
        "print(classification_report(prediction_fastText_rf, Y_test))"
      ]
    },
    {
      "cell_type": "markdown",
      "metadata": {
        "id": "ddhHr8Pc3dCh"
      },
      "source": [
        "Pada model Random Forest dengan fastText representation, terlihat bahwa\n",
        "- Label 1 mengalami 2 misklasifikasi ke label 2 , sedangkan label 2 mengalami misklasifikasi ke label 0 dan label 1 sebanyak 1 data masing-masing.\n",
        "- Berakibat dengan menurunnya precision dan recall masing-masing label\n",
        "1. Label 0 memiliki recall menjadi 97% (30/31 * 100%)\n",
        "2. Label 1 memiliki precision 93% (28/30*100%)\n",
        "3. Label 1 memiliki recall 97% (28/29 * 100%)\n",
        "4. Label 2 memiliki precision 93% (28/30 * 100%)\n",
        "5. Label 2 memiliki recall 93% (28/30 * 100%)\n",
        "- Total akurasi keseluruhan mencapai 96%"
      ]
    },
    {
      "cell_type": "markdown",
      "metadata": {
        "id": "LMzDXcFZ3eXb"
      },
      "source": [
        "# Final Conclusion"
      ]
    },
    {
      "cell_type": "markdown",
      "metadata": {
        "id": "IiqmYLXK3i2t"
      },
      "source": [
        "Setelah dilakukan scrapping, labelling, kemudian cleaning, text representation dan juga modelling, terlihat bahwa model yang dihasilkan dari setiap text representation sudah sangat baik, dimana total akurasi mencapai >95%.Untuk model terbaik diberikan kepada model SVM dengan text representation word2Vec dengan total akurasi 80%.\n"
      ]
    },
    {
      "cell_type": "markdown",
      "metadata": {
        "id": "5ND02g5z3rkx"
      },
      "source": [
        "Masih banyak hal yang dapat dikulik dari kasus ini, seperti hyperparameter tuning pada kedua model dan juga memodifikasi text representation parameter, terutama min_count. Namun, dikarenakan kendala waktu, hal tersebut masih belum dapat dilakukan"
      ]
    }
  ],
  "metadata": {
    "colab": {
      "provenance": [],
      "toc_visible": true
    },
    "kernelspec": {
      "display_name": "Python 3",
      "name": "python3"
    },
    "language_info": {
      "name": "python"
    }
  },
  "nbformat": 4,
  "nbformat_minor": 0
}
